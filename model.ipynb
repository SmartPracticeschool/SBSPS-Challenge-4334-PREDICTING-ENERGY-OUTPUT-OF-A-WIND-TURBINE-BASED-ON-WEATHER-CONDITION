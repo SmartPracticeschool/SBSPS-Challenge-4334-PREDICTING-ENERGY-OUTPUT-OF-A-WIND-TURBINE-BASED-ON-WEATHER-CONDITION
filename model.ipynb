{
 "cells": [
  {
   "cell_type": "code",
   "execution_count": 1,
   "metadata": {},
   "outputs": [],
   "source": [
    "import numpy as np\n",
    "import seaborn as sns\n",
    "import matplotlib.pyplot as plt\n",
    "%matplotlib inline\n",
    "import pandas as pd"
   ]
  },
  {
   "cell_type": "code",
   "execution_count": 2,
   "metadata": {},
   "outputs": [
    {
     "data": {
      "text/html": [
       "<div>\n",
       "<style scoped>\n",
       "    .dataframe tbody tr th:only-of-type {\n",
       "        vertical-align: middle;\n",
       "    }\n",
       "\n",
       "    .dataframe tbody tr th {\n",
       "        vertical-align: top;\n",
       "    }\n",
       "\n",
       "    .dataframe thead th {\n",
       "        text-align: right;\n",
       "    }\n",
       "</style>\n",
       "<table border=\"1\" class=\"dataframe\">\n",
       "  <thead>\n",
       "    <tr style=\"text-align: right;\">\n",
       "      <th></th>\n",
       "      <th>WindSpeed</th>\n",
       "      <th>Power</th>\n",
       "    </tr>\n",
       "  </thead>\n",
       "  <tbody>\n",
       "    <tr>\n",
       "      <th>0</th>\n",
       "      <td>15.17</td>\n",
       "      <td>2051.23</td>\n",
       "    </tr>\n",
       "    <tr>\n",
       "      <th>1</th>\n",
       "      <td>12.44</td>\n",
       "      <td>1945.25</td>\n",
       "    </tr>\n",
       "    <tr>\n",
       "      <th>2</th>\n",
       "      <td>13.98</td>\n",
       "      <td>1980.63</td>\n",
       "    </tr>\n",
       "    <tr>\n",
       "      <th>3</th>\n",
       "      <td>13.94</td>\n",
       "      <td>2070.12</td>\n",
       "    </tr>\n",
       "    <tr>\n",
       "      <th>4</th>\n",
       "      <td>14.94</td>\n",
       "      <td>2165.41</td>\n",
       "    </tr>\n",
       "  </tbody>\n",
       "</table>\n",
       "</div>"
      ],
      "text/plain": [
       "   WindSpeed    Power\n",
       "0      15.17  2051.23\n",
       "1      12.44  1945.25\n",
       "2      13.98  1980.63\n",
       "3      13.94  2070.12\n",
       "4      14.94  2165.41"
      ]
     },
     "execution_count": 2,
     "metadata": {},
     "output_type": "execute_result"
    }
   ],
   "source": [
    "df=pd.read_csv(\"sv.csv\")\n",
    "df.head()"
   ]
  },
  {
   "cell_type": "code",
   "execution_count": 3,
   "metadata": {},
   "outputs": [
    {
     "data": {
      "text/html": [
       "<div>\n",
       "<style scoped>\n",
       "    .dataframe tbody tr th:only-of-type {\n",
       "        vertical-align: middle;\n",
       "    }\n",
       "\n",
       "    .dataframe tbody tr th {\n",
       "        vertical-align: top;\n",
       "    }\n",
       "\n",
       "    .dataframe thead th {\n",
       "        text-align: right;\n",
       "    }\n",
       "</style>\n",
       "<table border=\"1\" class=\"dataframe\">\n",
       "  <thead>\n",
       "    <tr style=\"text-align: right;\">\n",
       "      <th></th>\n",
       "      <th>WindSpeed</th>\n",
       "      <th>Power</th>\n",
       "    </tr>\n",
       "  </thead>\n",
       "  <tbody>\n",
       "    <tr>\n",
       "      <th>count</th>\n",
       "      <td>1399.000000</td>\n",
       "      <td>1399.000000</td>\n",
       "    </tr>\n",
       "    <tr>\n",
       "      <th>mean</th>\n",
       "      <td>7.592102</td>\n",
       "      <td>763.730465</td>\n",
       "    </tr>\n",
       "    <tr>\n",
       "      <th>std</th>\n",
       "      <td>4.408039</td>\n",
       "      <td>759.963262</td>\n",
       "    </tr>\n",
       "    <tr>\n",
       "      <th>min</th>\n",
       "      <td>0.350000</td>\n",
       "      <td>0.000000</td>\n",
       "    </tr>\n",
       "    <tr>\n",
       "      <th>25%</th>\n",
       "      <td>4.165000</td>\n",
       "      <td>88.595000</td>\n",
       "    </tr>\n",
       "    <tr>\n",
       "      <th>50%</th>\n",
       "      <td>6.280000</td>\n",
       "      <td>441.400000</td>\n",
       "    </tr>\n",
       "    <tr>\n",
       "      <th>75%</th>\n",
       "      <td>11.525000</td>\n",
       "      <td>1532.355000</td>\n",
       "    </tr>\n",
       "    <tr>\n",
       "      <th>max</th>\n",
       "      <td>19.580000</td>\n",
       "      <td>2376.970000</td>\n",
       "    </tr>\n",
       "  </tbody>\n",
       "</table>\n",
       "</div>"
      ],
      "text/plain": [
       "         WindSpeed        Power\n",
       "count  1399.000000  1399.000000\n",
       "mean      7.592102   763.730465\n",
       "std       4.408039   759.963262\n",
       "min       0.350000     0.000000\n",
       "25%       4.165000    88.595000\n",
       "50%       6.280000   441.400000\n",
       "75%      11.525000  1532.355000\n",
       "max      19.580000  2376.970000"
      ]
     },
     "execution_count": 3,
     "metadata": {},
     "output_type": "execute_result"
    }
   ],
   "source": [
    "df.describe()"
   ]
  },
  {
   "cell_type": "code",
   "execution_count": 4,
   "metadata": {},
   "outputs": [],
   "source": [
    "x=df.iloc[:,0:1].values"
   ]
  },
  {
   "cell_type": "code",
   "execution_count": 5,
   "metadata": {},
   "outputs": [
    {
     "data": {
      "text/plain": [
       "array([[15.17],\n",
       "       [12.44],\n",
       "       [13.98],\n",
       "       ...,\n",
       "       [ 3.05],\n",
       "       [ 2.62],\n",
       "       [ 2.65]])"
      ]
     },
     "execution_count": 5,
     "metadata": {},
     "output_type": "execute_result"
    }
   ],
   "source": [
    "x"
   ]
  },
  {
   "cell_type": "code",
   "execution_count": 6,
   "metadata": {},
   "outputs": [],
   "source": [
    "y=df.iloc[:,1:2].values"
   ]
  },
  {
   "cell_type": "code",
   "execution_count": 7,
   "metadata": {},
   "outputs": [
    {
     "data": {
      "text/plain": [
       "array([[2051.23],\n",
       "       [1945.25],\n",
       "       [1980.63],\n",
       "       ...,\n",
       "       [   0.  ],\n",
       "       [   0.  ],\n",
       "       [   0.  ]])"
      ]
     },
     "execution_count": 7,
     "metadata": {},
     "output_type": "execute_result"
    }
   ],
   "source": [
    "y"
   ]
  },
  {
   "cell_type": "code",
   "execution_count": 8,
   "metadata": {},
   "outputs": [
    {
     "data": {
      "text/plain": [
       "<matplotlib.collections.PathCollection at 0x10550f2bdd8>"
      ]
     },
     "execution_count": 8,
     "metadata": {},
     "output_type": "execute_result"
    },
    {
     "data": {
      "image/png": "[encoded data removed]",
      "text/plain": [
       "<Figure size 432x288 with 1 Axes>"
      ]
     },
     "metadata": {
      "needs_background": "light"
     },
     "output_type": "display_data"
    }
   ],
   "source": [
    "plt.scatter(x,y,color='blue')"
   ]
  },
  {
   "cell_type": "code",
   "execution_count": 9,
   "metadata": {},
   "outputs": [],
   "source": [
    "from sklearn.model_selection import train_test_split"
   ]
  },
  {
   "cell_type": "code",
   "execution_count": 10,
   "metadata": {},
   "outputs": [],
   "source": [
    "x_train,x_test,y_train,y_test=train_test_split(x,y,test_size=0.2,random_state=0)"
   ]
  },
  {
   "cell_type": "code",
   "execution_count": 11,
   "metadata": {},
   "outputs": [],
   "source": [
    "from sklearn.linear_model import LinearRegression"
   ]
  },
  {
   "cell_type": "code",
   "execution_count": 12,
   "metadata": {},
   "outputs": [],
   "source": [
    "model = LinearRegression()"
   ]
  },
  {
   "cell_type": "code",
   "execution_count": 13,
   "metadata": {},
   "outputs": [
    {
     "data": {
      "text/plain": [
       "LinearRegression()"
      ]
     },
     "execution_count": 13,
     "metadata": {},
     "output_type": "execute_result"
    }
   ],
   "source": [
    "model.fit(x_train,y_train)"
   ]
  },
  {
   "cell_type": "code",
   "execution_count": 14,
   "metadata": {},
   "outputs": [],
   "source": [
    "y_pred=model.predict(x_test)"
   ]
  },
  {
   "cell_type": "code",
   "execution_count": 15,
   "metadata": {},
   "outputs": [
    {
     "data": {
      "text/plain": [
       "array([[ 576.27774165],\n",
       "       [1622.84941835],\n",
       "       [ 683.86922244],\n",
       "       [  13.86772848],\n",
       "       [ 463.79573902],\n",
       "       [ 434.4526079 ],\n",
       "       [  69.29364282],\n",
       "       [1577.20454771],\n",
       "       [-110.02549182],\n",
       "       [ 400.21895492],\n",
       "       [1194.11366917],\n",
       "       [ 238.83173375],\n",
       "       [1588.61576537],\n",
       "       [ 163.84373199],\n",
       "       [ 191.55668916],\n",
       "       [1437.00958791],\n",
       "       [ 517.59147941],\n",
       "       [2640.07796392],\n",
       "       [ 440.9733037 ],\n",
       "       [ -67.64096908],\n",
       "       [ 385.54738936],\n",
       "       [ 529.00269707],\n",
       "       [ 665.93730897],\n",
       "       [1332.67845503],\n",
       "       [2054.84551542],\n",
       "       [ 607.25104673],\n",
       "       [1709.24863776],\n",
       "       [1270.73184488],\n",
       "       [ 207.85842867],\n",
       "       [ 502.91991385],\n",
       "       [1697.8374201 ],\n",
       "       [1603.28733093],\n",
       "       [-121.43670948],\n",
       "       [2252.09656352],\n",
       "       [  75.81433862],\n",
       "       [ 106.7876437 ],\n",
       "       [1710.87881171],\n",
       "       [  30.16946799],\n",
       "       [1503.84671991],\n",
       "       [1629.37011415],\n",
       "       [ 659.41661317],\n",
       "       [ 667.56748292],\n",
       "       [ 335.01199687],\n",
       "       [-167.08158011],\n",
       "       [ 424.67156419],\n",
       "       [  31.79964194],\n",
       "       [ 436.08278185],\n",
       "       [ -61.12027328],\n",
       "       [ 775.1589637 ],\n",
       "       [-163.82123221],\n",
       "       [1766.30472606],\n",
       "       [-162.19105826],\n",
       "       [ 804.50209483],\n",
       "       [1559.27263425],\n",
       "       [ 468.68626087],\n",
       "       [1458.20184927],\n",
       "       [ 797.98139902],\n",
       "       [1692.94689825],\n",
       "       [2447.71743767],\n",
       "       [1699.46759406],\n",
       "       [-163.82123221],\n",
       "       [1831.51168411],\n",
       "       [ 931.65566302],\n",
       "       [1606.54767883],\n",
       "       [1916.28072957],\n",
       "       [ 634.9640039 ],\n",
       "       [ 824.06418224],\n",
       "       [ 574.6475677 ],\n",
       "       [1591.87611327],\n",
       "       [ 602.36052487],\n",
       "       [1557.6424603 ],\n",
       "       [ 173.6247757 ],\n",
       "       [ 344.79304058],\n",
       "       [ 229.05069004],\n",
       "       [ 313.8197355 ],\n",
       "       [ 822.43400829],\n",
       "       [ 401.84912887],\n",
       "       [ 168.73425384],\n",
       "       [1394.62506517],\n",
       "       [2121.68264743],\n",
       "       [ 185.03599336],\n",
       "       [ 390.43791121],\n",
       "       [1807.05907484],\n",
       "       [ -80.68236069],\n",
       "       [1231.60767005],\n",
       "       [ -62.75044723],\n",
       "       [1634.26063601],\n",
       "       [ 286.10677833],\n",
       "       [ 136.13077482],\n",
       "       [ 295.88782204],\n",
       "       [ 240.4619077 ],\n",
       "       [ 229.05069004],\n",
       "       [  30.16946799],\n",
       "       [1254.43010537],\n",
       "       [ 460.53539112],\n",
       "       [1609.80802674],\n",
       "       [1114.23514556],\n",
       "       [ 331.75164897],\n",
       "       [ 861.55818312],\n",
       "       [ 225.79034214],\n",
       "       [ 323.60077921],\n",
       "       [ 556.71565424],\n",
       "       [ 731.14426702],\n",
       "       [ 661.04678712],\n",
       "       [  25.27894614],\n",
       "       [ 701.8011359 ],\n",
       "       [1671.75463688],\n",
       "       [ 312.18956155],\n",
       "       [ 290.99730019],\n",
       "       [ -33.40731611],\n",
       "       [1650.56237552],\n",
       "       [ 664.30713502],\n",
       "       [1094.67305815],\n",
       "       [ 393.69825912],\n",
       "       [1334.30862898],\n",
       "       [ 983.82122946],\n",
       "       [ 499.65956595],\n",
       "       [ 403.47930282],\n",
       "       [-186.64366753],\n",
       "       [  38.32033775],\n",
       "       [1963.55577416],\n",
       "       [2193.41030128],\n",
       "       [1787.49698742],\n",
       "       [-242.06958187],\n",
       "       [1538.08037288],\n",
       "       [ 238.83173375],\n",
       "       [ 269.80503882],\n",
       "       [-131.21775318],\n",
       "       [1195.74384312],\n",
       "       [ 414.89052048],\n",
       "       [ -67.64096908],\n",
       "       [  49.7315554 ],\n",
       "       [2719.95648753],\n",
       "       [ 198.07738497],\n",
       "       [2628.66674626],\n",
       "       [ 233.94121189],\n",
       "       [2076.03777679],\n",
       "       [ 186.66616731],\n",
       "       [ 152.43251433],\n",
       "       [-229.02819026],\n",
       "       [2656.37970343],\n",
       "       [ 325.23095316],\n",
       "       [1247.90940956],\n",
       "       [1379.95349961],\n",
       "       [1396.25523913],\n",
       "       [1446.79063161],\n",
       "       [ 773.52878975],\n",
       "       [ 664.30713502],\n",
       "       [1582.09506957],\n",
       "       [1564.1631561 ],\n",
       "       [ 198.07738497],\n",
       "       [1637.52098391],\n",
       "       [1564.1631561 ],\n",
       "       [ -26.8866203 ],\n",
       "       [ -41.55818587],\n",
       "       [ 276.32573463],\n",
       "       [ 405.10947677],\n",
       "       [1489.17515435],\n",
       "       [ 114.93851345],\n",
       "       [ 514.33113151],\n",
       "       [1807.05907484],\n",
       "       [1556.01228635],\n",
       "       [1076.74114468],\n",
       "       [2402.07256704],\n",
       "       [1608.17785279],\n",
       "       [ 561.60617609],\n",
       "       [ 188.29634126],\n",
       "       [-261.63166928],\n",
       "       [1657.08307132],\n",
       "       [1022.94540429],\n",
       "       [1777.71594371],\n",
       "       [1511.99758966],\n",
       "       [ 488.24834829],\n",
       "       [ 594.20965512],\n",
       "       [ 202.96790682],\n",
       "       [1311.48619366],\n",
       "       [ -39.92801191],\n",
       "       [ 529.00269707],\n",
       "       [2362.94839221],\n",
       "       [-121.43670948],\n",
       "       [ 985.45140341],\n",
       "       [ 209.48860263],\n",
       "       [2115.16195162],\n",
       "       [1490.8053283 ],\n",
       "       [2252.09656352],\n",
       "       [ 718.10287541],\n",
       "       [2398.81221914],\n",
       "       [ -54.59957747],\n",
       "       [ 238.83173375],\n",
       "       [ 626.81313414],\n",
       "       [ 597.47000302],\n",
       "       [ 934.91601093],\n",
       "       [ 633.33382995],\n",
       "       [1257.69045327],\n",
       "       [ 287.73695228],\n",
       "       [ 147.54199248],\n",
       "       [ 447.49399951],\n",
       "       [ 424.67156419],\n",
       "       [1194.11366917],\n",
       "       [-114.91601367],\n",
       "       [ 216.00929843],\n",
       "       [-140.99879689],\n",
       "       [2400.44239309],\n",
       "       [1404.40610888],\n",
       "       [ 336.64217082],\n",
       "       [  18.75825033],\n",
       "       [1479.39411064],\n",
       "       [ 555.08548029],\n",
       "       [2164.06717016],\n",
       "       [1736.96159493],\n",
       "       [1409.29663074],\n",
       "       [1699.46759406],\n",
       "       [ 162.21355804],\n",
       "       [ 315.44990946],\n",
       "       [ 414.89052048],\n",
       "       [  80.70486048],\n",
       "       [1598.39680908],\n",
       "       [ 931.65566302],\n",
       "       [1216.93610449],\n",
       "       [ 455.64486926],\n",
       "       [1600.02698303],\n",
       "       [1702.72794196],\n",
       "       [ 119.82903531],\n",
       "       [ 509.44060965],\n",
       "       [ 308.92921365],\n",
       "       [2087.44899445],\n",
       "       [ 551.82513238],\n",
       "       [-302.38601806],\n",
       "       [ 952.84792439],\n",
       "       [1280.51288859],\n",
       "       [ 416.52069443],\n",
       "       [1855.96429337],\n",
       "       [  56.25225121],\n",
       "       [ 392.06808516],\n",
       "       [1644.04167971],\n",
       "       [  77.44451258],\n",
       "       [1696.20724615],\n",
       "       [ 659.41661317],\n",
       "       [ -10.58488079],\n",
       "       [  46.4712075 ],\n",
       "       [-250.22045162],\n",
       "       [ 217.63947238],\n",
       "       [  70.92381677],\n",
       "       [1154.98949434],\n",
       "       [-101.87462206],\n",
       "       [1495.69585015],\n",
       "       [1957.03507835],\n",
       "       [ 224.16016819],\n",
       "       [1645.67185366],\n",
       "       [2304.26212996],\n",
       "       [1671.75463688],\n",
       "       [1934.21264303],\n",
       "       [1621.2192444 ],\n",
       "       [ -52.96940352],\n",
       "       [ 240.4619077 ],\n",
       "       [ 142.65147062],\n",
       "       [1270.73184488],\n",
       "       [ 171.99460175],\n",
       "       [ 460.53539112],\n",
       "       [ 416.52069443],\n",
       "       [ -20.3659245 ],\n",
       "       [  20.38842428],\n",
       "       [ 845.25644361],\n",
       "       [ 310.5593876 ],\n",
       "       [ 853.40731336],\n",
       "       [ 623.55278624],\n",
       "       [ 124.71955716],\n",
       "       [  67.66346887],\n",
       "       [ 352.94391033],\n",
       "       [ 168.73425384],\n",
       "       [ 113.3083395 ],\n",
       "       [ 150.80234038],\n",
       "       [ 163.84373199],\n",
       "       [-167.08158011],\n",
       "       [1983.11786157],\n",
       "       [ 488.24834829],\n",
       "       [1735.33142098],\n",
       "       [ -25.25644635],\n",
       "       [ 217.63947238],\n",
       "       [ 439.34312975]])"
      ]
     },
     "execution_count": 15,
     "metadata": {},
     "output_type": "execute_result"
    }
   ],
   "source": [
    "y_pred"
   ]
  },
  {
   "cell_type": "code",
   "execution_count": 16,
   "metadata": {},
   "outputs": [
    {
     "data": {
      "text/plain": [
       "<matplotlib.collections.PathCollection at 0x105534a6c50>"
      ]
     },
     "execution_count": 16,
     "metadata": {},
     "output_type": "execute_result"
    },
    {
     "data": {
      "image/png": "[encoded data removed]",
      "text/plain": [
       "<Figure size 432x288 with 1 Axes>"
      ]
     },
     "metadata": {
      "needs_background": "light"
     },
     "output_type": "display_data"
    }
   ],
   "source": [
    "plt.scatter(x_train,y_train,color='blue')\n",
    "plt.scatter(x_train,model.predict(x_train),color='red')"
   ]
  },
  {
   "cell_type": "code",
   "execution_count": 17,
   "metadata": {},
   "outputs": [
    {
     "data": {
      "text/plain": [
       "Text(0.5, 1.0, 'Energy prediction')"
      ]
     },
     "execution_count": 17,
     "metadata": {},
     "output_type": "execute_result"
    },
    {
     "data": {
      "image/png": "[encoded data removed]",
      "text/plain": [
       "<Figure size 432x288 with 1 Axes>"
      ]
     },
     "metadata": {
      "needs_background": "light"
     },
     "output_type": "display_data"
    }
   ],
   "source": [
    "plt.scatter(x_test,y_test,color='blue')\n",
    "plt.plot(x_test,y_pred,color='green')\n",
    "plt.xlabel('Windspeed')\n",
    "plt.ylabel('Energy')\n",
    "plt.title('Energy prediction')"
   ]
  },
  {
   "cell_type": "code",
   "execution_count": 18,
   "metadata": {},
   "outputs": [],
   "source": [
    "from sklearn import metrics"
   ]
  },
  {
   "cell_type": "code",
   "execution_count": 19,
   "metadata": {},
   "outputs": [
    {
     "name": "stdout",
     "output_type": "stream",
     "text": [
      "0.917936860860959\n"
     ]
    }
   ],
   "source": [
    "accuracy = model.score(x_test, y_test)\n",
    "print(accuracy)"
   ]
  },
  {
   "cell_type": "code",
   "execution_count": 20,
   "metadata": {},
   "outputs": [
    {
     "name": "stdout",
     "output_type": "stream",
     "text": [
      "0.8953034751238422\n"
     ]
    }
   ],
   "source": [
    "accuracy = model.score(x_train, y_train)\n",
    "print(accuracy)"
   ]
  },
  {
   "cell_type": "code",
   "execution_count": 21,
   "metadata": {},
   "outputs": [
    {
     "data": {
      "text/plain": [
       "LinearRegression()"
      ]
     },
     "execution_count": 21,
     "metadata": {},
     "output_type": "execute_result"
    }
   ],
   "source": [
    "from sklearn.preprocessing import PolynomialFeatures\n",
    "poly_reg = PolynomialFeatures(degree=3)\n",
    "x_poly = poly_reg.fit_transform(x_train)\n",
    "pol_reg = LinearRegression()\n",
    "pol_reg.fit(x_poly, y_train)"
   ]
  },
  {
   "cell_type": "code",
   "execution_count": 22,
   "metadata": {},
   "outputs": [
    {
     "data": {
      "image/png": "[encoded data removed]",
      "text/plain": [
       "<Figure size 432x288 with 1 Axes>"
      ]
     },
     "metadata": {
      "needs_background": "light"
     },
     "output_type": "display_data"
    }
   ],
   "source": [
    "def viz_polymonial():\n",
    "    plt.scatter(x, y, color='red')\n",
    "    plt.plot(x_test, pol_reg.predict(poly_reg.fit_transform(x_test)), color='blue')\n",
    "    plt.title('Polynomial  Regression)')\n",
    "    plt.xlabel('WindSpeed(m/s)')\n",
    "    plt.ylabel('Power(KW)')\n",
    "    plt.show()\n",
    "    return\n",
    "viz_polymonial()"
   ]
  },
  {
   "cell_type": "code",
   "execution_count": 23,
   "metadata": {},
   "outputs": [],
   "source": [
    "from sklearn import metrics"
   ]
  },
  {
   "cell_type": "code",
   "execution_count": 24,
   "metadata": {},
   "outputs": [
    {
     "name": "stdout",
     "output_type": "stream",
     "text": [
      "0.9226451889558468\n"
     ]
    }
   ],
   "source": [
    "accuracy = pol_reg.score(x_poly, y_train)\n",
    "print(accuracy)"
   ]
  },
  {
   "cell_type": "code",
   "execution_count": 30,
   "metadata": {},
   "outputs": [
    {
     "name": "stdout",
     "output_type": "stream",
     "text": [
      "enter the wind speed7\n"
     ]
    }
   ],
   "source": [
    "speed1=int(input(\"enter the wind speed\"))"
   ]
  },
  {
   "cell_type": "code",
   "execution_count": 31,
   "metadata": {},
   "outputs": [
    {
     "name": "stdout",
     "output_type": "stream",
     "text": [
      "enter time12\n"
     ]
    }
   ],
   "source": [
    "time=int(input(\"enter time\"))"
   ]
  },
  {
   "cell_type": "code",
   "execution_count": 68,
   "metadata": {},
   "outputs": [],
   "source": [
    "from numpy import array\n",
    "from numpy import reshape\n",
    "pred_list=[]\n",
    "k=speed1\n",
    "i=1\n",
    "for i in range(72):                      \n",
    "    if((time>=1)and(time<6)):\n",
    "        if((speed1>4) and (speed1<8)):\n",
    "            speed1+=0.75\n",
    "        else:\n",
    "            speed1=5.36+(i/24)*1.5\n",
    "    elif((time>=6)and(time<10)):\n",
    "        if((speed1>8) and (speed1<12)):\n",
    "            speed1+=0.72\n",
    "        else:\n",
    "            speed1=11.5+(i/24)*1.75\n",
    "    elif((time>=10)and(time<14)):\n",
    "        if((speed1>12) and (speed1<16)):\n",
    "            speed1+=0.96\n",
    "        else:\n",
    "            speed1=14.48+(i%24)\n",
    "    elif((time>=14)and(time<16)):\n",
    "        if((speed1>13)and (speed1<15)):\n",
    "            speed1+=0.5\n",
    "        else:\n",
    "            speed1=15+(i/24)*2\n",
    "            \n",
    "    elif((time>=16)and(time<18)):\n",
    "        if((speed1>16) and (speed1<20)):\n",
    "            speed1+=1\n",
    "        else:\n",
    "            speed1=17.29+(i/24)*0.75\n",
    "    elif((time>=18)and(time<20)):\n",
    "        if((speed1>14) and (speed1<17)):\n",
    "            speed1+=0.16\n",
    "        else:\n",
    "            speed1=16.18+(i/24)*0.5\n",
    "    elif((time>=20)and(time<=23)):\n",
    "        if((speed1>6) and (speed1<10)):\n",
    "            speed1+=0.16\n",
    "        else:\n",
    "            speed1=6.42+(i/24)*1\n",
    " \n",
    "  \n",
    "    if(i==24) or(i==48) or(i==72):\n",
    "        speed1=k+1.26+(i%24)\n",
    "\n",
    "    speed1=array([speed1])\n",
    "    speed1=speed1.reshape(speed1.shape[0],1)\n",
    "    b=poly_reg.fit_transform(speed1,0)\n",
    "    a=pol_reg.predict(b)\n",
    "    if(a>2300):\n",
    "        a=2300+i%24\n",
    "    pred_list.append(abs(a))\n",
    "    time=(time)+1\n",
    "    if(time>24):\n",
    "        time=time%24\n",
    "a = []\n",
    "for i in pred_list:\n",
    "    #print(i[0])\n",
    "    a.append(i[0][0])\n",
    "# print(a)\n",
    "# print(len(pred_list))    \n",
    "pred_list = array(a)\n",
    "# print(pred_list)\n",
    "# pred_list=array(pred_list)\n",
    "# pred_list\n"
   ]
  },
  {
   "cell_type": "code",
   "execution_count": 63,
   "metadata": {},
   "outputs": [],
   "source": [
    "yy=[]\n",
    "i=1\n",
    "for i in range(72):\n",
    "    yy.append(i)"
   ]
  },
  {
   "cell_type": "code",
   "execution_count": 64,
   "metadata": {},
   "outputs": [
    {
     "name": "stdout",
     "output_type": "stream",
     "text": [
      "<class 'list'>\n",
      "<class 'numpy.ndarray'>\n",
      "<class 'numpy.ndarray'>\n"
     ]
    }
   ],
   "source": [
    "print(type(yy))\n",
    "yy = np.array(yy)\n",
    "print(type(yy))\n",
    "print(type(pred_list))"
   ]
  },
  {
   "cell_type": "code",
   "execution_count": 65,
   "metadata": {
    "scrolled": true
   },
   "outputs": [
    {
     "name": "stdout",
     "output_type": "stream",
     "text": [
      "(72,)\n",
      "(72,)\n"
     ]
    }
   ],
   "source": [
    "print(yy.shape)\n",
    "print(pred_list.shape)"
   ]
  },
  {
   "cell_type": "code",
   "execution_count": 66,
   "metadata": {},
   "outputs": [
    {
     "name": "stdout",
     "output_type": "stream",
     "text": [
      "[2042.45774738 2087.31401783 2041.33720274 2047.10262669 2068.58990359\n",
      " 1981.92811841 2090.14622518 2091.50339949  551.07528761  582.09545774\n",
      "  613.54238594  645.38460114  645.38460114  798.97902977  957.32604089\n",
      "  465.31882107  608.43743366  760.35320048 1761.03791016 1772.62001052\n",
      " 1784.04677694 1795.31523066 1927.5054845  2024.94037253 2091.39956059\n",
      " 2061.29427891 2079.88965408 2076.53063677 2000.9610944  1854.95803279\n",
      " 2089.52711924 2086.24230285  751.22139401  784.39247987  817.79362962\n",
      "  851.39337221  851.39337221  734.56055278  891.33119678  760.35320048\n",
      "  917.82470159  786.30017413 1990.10718743 1997.13914195 2003.94427286\n",
      " 2010.51960144 2074.2550382  2090.84337693 2091.39956059 2061.29427891\n",
      " 1870.00261327 1854.95803279 1630.83808623 1907.21369168 2074.07524935\n",
      " 2073.09534541  961.58371006  995.67637311 1029.80240591 1063.93033737\n",
      " 1063.93033737 1050.95639182 1064.28573566 1077.61051709 1090.92886029\n",
      " 1104.23888943 1256.36121494 1404.26343701 1545.07775475 1675.93636727\n",
      " 1829.97117184 1954.41088196]\n"
     ]
    }
   ],
   "source": [
    "print(pred_list)"
   ]
  },
  {
   "cell_type": "code",
   "execution_count": 67,
   "metadata": {},
   "outputs": [
    {
     "name": "stdout",
     "output_type": "stream",
     "text": [
      "(72,) (72,)\n"
     ]
    },
    {
     "data": {
      "text/plain": [
       "Text(0.5, 1.0, 'Power generated for next 72 hours')"
      ]
     },
     "execution_count": 67,
     "metadata": {},
     "output_type": "execute_result"
    },
    {
     "data": {
      "image/png": "[encoded data removed]",
      "text/plain": [
       "<Figure size 432x288 with 1 Axes>"
      ]
     },
     "metadata": {
      "needs_background": "light"
     },
     "output_type": "display_data"
    }
   ],
   "source": [
    "print(yy.shape, pred_list.shape)\n",
    "plt.plot(yy,pred_list)\n",
    "plt.xlabel('Hours')\n",
    "plt.ylabel('Power Generated')\n",
    "plt.title('Power generated for next 72 hours')"
   ]
  },
  {
   "cell_type": "code",
   "execution_count": null,
   "metadata": {},
   "outputs": [],
   "source": []
  }
 ],
 "metadata": {
  "kernelspec": {
   "display_name": "Python 3",
   "language": "python",
   "name": "python3"
  },
  "language_info": {
   "codemirror_mode": {
    "name": "ipython",
    "version": 3
   },
   "file_extension": ".py",
   "mimetype": "text/x-python",
   "name": "python",
   "nbconvert_exporter": "python",
   "pygments_lexer": "ipython3",
   "version": "3.6.10"
  }
 },
 "nbformat": 4,
 "nbformat_minor": 4
}
